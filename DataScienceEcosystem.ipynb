{
 "cells": [
  {
   "cell_type": "markdown",
   "id": "700f054a-6c85-449e-9bef-859758fa3634",
   "metadata": {},
   "source": [
    "# Data Science Tools and Ecosystem"
   ]
  },
  {
   "cell_type": "markdown",
   "id": "72b97062-8088-497a-89ea-aa4fde32a73d",
   "metadata": {},
   "source": [
    "In this notebook, Data Science Tools and Ecosystems are summerized."
   ]
  },
  {
   "cell_type": "markdown",
   "id": "ed040fdc-f900-49ee-a780-3fedecf365fd",
   "metadata": {
    "tags": []
   },
   "source": [
    "Some of the popular languages that Data Scientists use are: \n",
    "1. Python\n",
    "2. R\n",
    "3. Julian \n"
   ]
  },
  {
   "cell_type": "markdown",
   "id": "ea588128-213d-44dd-af37-0a700b3549e1",
   "metadata": {},
   "source": [
    "Some of the commonly used libraries used by Data Scientists include:\n",
    "   1. Numbpy\n",
    "   2. Pandas \n",
    "   3. PyTourch\n",
    "    "
   ]
  },
  {
   "cell_type": "markdown",
   "id": "9007ce8a-9a55-42de-ad97-592c89347d13",
   "metadata": {},
   "source": [
    "|Data Science Tools|\n",
    "|-----|\n",
    "|Jupiter Lab|\n",
    "Juputer Notebook|\n",
    "|GetHub     |"
   ]
  },
  {
   "cell_type": "markdown",
   "id": "da67c8e2-a326-4957-a428-4b835d0abae4",
   "metadata": {},
   "source": [
    "### Below are a few examples of evaluating arithmatic expressions in python"
   ]
  },
  {
   "cell_type": "code",
   "execution_count": 3,
   "id": "81c1dd71-fcdf-4c10-af62-8810cf69ae35",
   "metadata": {},
   "outputs": [
    {
     "data": {
      "text/plain": [
       "17"
      ]
     },
     "execution_count": 3,
     "metadata": {},
     "output_type": "execute_result"
    }
   ],
   "source": [
    "(3*4)+5"
   ]
  },
  {
   "cell_type": "code",
   "execution_count": 7,
   "id": "91f4f7a0-2adf-4d46-87b2-40ba1d73c70f",
   "metadata": {},
   "outputs": [
    {
     "data": {
      "text/plain": [
       "3.3333333333333335"
      ]
     },
     "execution_count": 7,
     "metadata": {},
     "output_type": "execute_result"
    }
   ],
   "source": [
    "#This cell with convert 200 minuts into hours\n",
    "200/60"
   ]
  },
  {
   "cell_type": "markdown",
   "id": "c3213726-701b-46a9-ad0e-bfa79c6fdb48",
   "metadata": {},
   "source": [
    "**Objectives:**\n",
    "* Arithmetic Expressions\n",
    "* Libraries\n",
    "* Languages"
   ]
  },
  {
   "cell_type": "markdown",
   "id": "9c64eb51-3d4c-419c-ad78-f2ece4af08ab",
   "metadata": {},
   "source": [
    "## Author \n",
    "Andrew Deadwyler"
   ]
  },
  {
   "cell_type": "code",
   "execution_count": null,
   "id": "f621a25c-577e-4b65-927a-e39800c311d9",
   "metadata": {},
   "outputs": [],
   "source": []
  }
 ],
 "metadata": {
  "kernelspec": {
   "display_name": "Python 3 (ipykernel)",
   "language": "python",
   "name": "python3"
  },
  "language_info": {
   "codemirror_mode": {
    "name": "ipython",
    "version": 3
   },
   "file_extension": ".py",
   "mimetype": "text/x-python",
   "name": "python",
   "nbconvert_exporter": "python",
   "pygments_lexer": "ipython3",
   "version": "3.9.7"
  }
 },
 "nbformat": 4,
 "nbformat_minor": 5
}
